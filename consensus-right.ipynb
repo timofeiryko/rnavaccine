{
 "cells": [
  {
   "cell_type": "markdown",
   "metadata": {},
   "source": [
    "# Imports and set up"
   ]
  },
  {
   "cell_type": "code",
   "execution_count": 103,
   "metadata": {},
   "outputs": [],
   "source": [
    "import os, sys\n",
    "import re\n",
    "\n",
    "import requests\n",
    "from lxml import etree\n",
    "from bs4 import BeautifulSoup\n",
    "\n",
    "from Bio import SeqIO\n",
    "from Bio.Blast import NCBIWWW\n",
    "from Bio import Entrez\n",
    "from Bio.Seq import Seq\n",
    "from Bio.SeqRecord import SeqRecord\n",
    "from io import StringIO\n"
   ]
  },
  {
   "cell_type": "code",
   "execution_count": 104,
   "metadata": {},
   "outputs": [],
   "source": [
    "TERM = 'Flavivirus'\n",
    "FASTA_DIR_PATH = '/home/timofeiryko/Downloads/fasta'"
   ]
  },
  {
   "cell_type": "code",
   "execution_count": 105,
   "metadata": {},
   "outputs": [],
   "source": [
    "# Set up the Entrez email address\n",
    "Entrez.email = \"timofei.ryko@gmail.com\"\n",
    "\n",
    "# Set up the search parameters\n",
    "query = TERM\n",
    "db = \"cdd\""
   ]
  },
  {
   "cell_type": "code",
   "execution_count": 106,
   "metadata": {},
   "outputs": [],
   "source": [
    "! pip freeze > requirements.txt"
   ]
  },
  {
   "cell_type": "code",
   "execution_count": 107,
   "metadata": {},
   "outputs": [
    {
     "name": "stdout",
     "output_type": "stream",
     "text": [
      "Python 3.11.10\n"
     ]
    }
   ],
   "source": [
    "! python --version"
   ]
  },
  {
   "cell_type": "markdown",
   "metadata": {},
   "source": [
    "# Search protein identifiers by term"
   ]
  },
  {
   "cell_type": "code",
   "execution_count": 108,
   "metadata": {},
   "outputs": [],
   "source": [
    "# Perform the Entrez search to get the unique identifiers\n",
    "handle = Entrez.esearch(db=db, term=query)\n",
    "record = Entrez.read(handle)\n",
    "handle.close()\n",
    "\n",
    "# Get the list of unique identifiers\n",
    "ids = record['IdList']"
   ]
  },
  {
   "cell_type": "code",
   "execution_count": 109,
   "metadata": {},
   "outputs": [
    {
     "data": {
      "text/plain": [
       "['477363', '473069', '470726', '466632', '460022', '460013', '453075', '438054', '438028', '409908', '409906', '400138', '398938', '395758', '395698', '366710', '366413', '355797', '355796', '341208']"
      ]
     },
     "execution_count": 109,
     "metadata": {},
     "output_type": "execute_result"
    }
   ],
   "source": [
    "ids"
   ]
  },
  {
   "cell_type": "markdown",
   "metadata": {},
   "source": [
    "# Convert of IDs using bs4"
   ]
  },
  {
   "cell_type": "code",
   "execution_count": 110,
   "metadata": {},
   "outputs": [],
   "source": [
    "page = requests.get('https://www.ncbi.nlm.nih.gov/Structure/cdd/cddsrv.cgi?uid=394953')\n",
    "soup = BeautifulSoup(page.content, 'html.parser')"
   ]
  },
  {
   "cell_type": "code",
   "execution_count": 111,
   "metadata": {},
   "outputs": [],
   "source": [
    "prefixes = [\n",
    "    \"Source Database\",\n",
    "    \"cd\",\n",
    "    \"sd\",\n",
    "    \"NF\",\n",
    "    \"pfam\",\n",
    "    \"smart\",\n",
    "    \"COG\",\n",
    "    \"KOG\",\n",
    "    \"PRK\",\n",
    "    \"CHL\",\n",
    "    \"MTH\",\n",
    "    \"PHA\",\n",
    "    \"PLN\",\n",
    "    \"PTZ\",\n",
    "    \"TIGR\",\n",
    "    \"LOAD_\",\n",
    "    \"cl\"\n",
    "]\n",
    "\n",
    "# Prepare a regex pattern to match prefixes followed by digits\n",
    "prefix_pattern = r'|'.join([re.escape(prefix) + r'\\d+' for prefix in prefixes])"
   ]
  },
  {
   "cell_type": "code",
   "execution_count": 112,
   "metadata": {},
   "outputs": [
    {
     "name": "stdout",
     "output_type": "stream",
     "text": [
      "Found span with non-breaking space:  ps-ssRNAv_RdRp-like Superfamily \n",
      "Found span with non-breaking space:  RRM_SF Superfamily \n",
      "Found span with non-breaking space:  Flavi_M Superfamily \n",
      "Found span with non-breaking space:  Flavi_NS5_thumb \n",
      "Found span with non-breaking space:  Flavi_M \n",
      "Found span with non-breaking space:  Flavi_NS5 \n",
      "Found span with non-breaking space:  Peptidase_S7 Superfamily \n",
      "Found span with non-breaking space:  Flavivirus_RdRp \n",
      "Found span with non-breaking space:  ps-ssRNAv_Flaviviridae_RdRp \n",
      "Found span with non-breaking space:  RRM2_U1A \n",
      "Found span with non-breaking space:  RRM1_U1A \n",
      "Found span with non-breaking space:  Flavi_DEAD \n",
      "Found span with non-breaking space:  Peptidase_S31 \n",
      "Found span with non-breaking space:  Peptidase_S7 \n",
      "Found span with non-breaking space:  Flavi_glycoprot \n",
      "Found span with non-breaking space:  Flavi_propep \n",
      "Found span with non-breaking space:  Flavi_capsid \n",
      "Found span with non-breaking space:  STAT_CCD Superfamily \n",
      "Found span with non-breaking space:  STAT_DBD Superfamily \n",
      "Found span with non-breaking space:  Flavi_M \n"
     ]
    }
   ],
   "source": [
    "cd_ids = []\n",
    "proteins = []\n",
    "\n",
    "for pssm_id in ids:\n",
    "\n",
    "        page = requests.get(f'https://www.ncbi.nlm.nih.gov/Structure/cdd/cddsrv.cgi?uid={pssm_id}')\n",
    "        soup = BeautifulSoup(page.content, 'html.parser')\n",
    "\n",
    "        div = soup.find('div', class_='title')\n",
    "        links = div.find_all('a')\n",
    "        for link in links:\n",
    "            href = link.get('href', '')\n",
    "            # Use regex to check if href starts with the desired pattern\n",
    "            if re.match(r'^/Structure/cdd/cddsrv\\.cgi\\?.*', href):\n",
    "                matching_link = link\n",
    "                break  # Stop after finding the first matching link\n",
    "\n",
    "        if matching_link:\n",
    "            # Extract the href and parse the uid parameter\n",
    "            href = matching_link['href']\n",
    "            uid_match = re.search(r'uid=([^&]+)', href)  # Extract uid using regex\n",
    "            uid = uid_match.group(1)\n",
    "            # Check if uid starts with any of the specified prefixes followed by digits\n",
    "            if re.match(rf'^{prefix_pattern}', uid):\n",
    "                cd_ids.append(uid)\n",
    "\n",
    "                span = div.find('span')\n",
    "                if span and span.text.startswith('\\xa0'):  # Check for non-breaking space\n",
    "                    # If it starts with &nbsp; (which is \\xa0 in Python)\n",
    "                    print(f\"Found span with non-breaking space: {span.text}\")\n",
    "                    proteins.append(span.text.strip())\n",
    "                else:\n",
    "                    print(f\"Span does not start with non-breaking space for UID {uid}.\")\n",
    "\n",
    "            else:\n",
    "                print(f\"UID {uid} does not match the required pattern.\")\n",
    "\n",
    "assert len(ids) == len(cd_ids)"
   ]
  },
  {
   "cell_type": "code",
   "execution_count": 113,
   "metadata": {},
   "outputs": [
    {
     "data": {
      "text/plain": [
       "['cl40470',\n",
       " 'cl17169',\n",
       " 'cl03065',\n",
       " 'pfam20483',\n",
       " 'pfam01004',\n",
       " 'pfam00972',\n",
       " 'cl29867',\n",
       " 'cd23204',\n",
       " 'cd23178',\n",
       " 'cd12480',\n",
       " 'cd12477',\n",
       " 'pfam07652',\n",
       " 'pfam05578',\n",
       " 'pfam00949',\n",
       " 'pfam00869',\n",
       " 'pfam01570',\n",
       " 'pfam01003',\n",
       " 'cl28921',\n",
       " 'cl28920',\n",
       " 'cd17038']"
      ]
     },
     "execution_count": 113,
     "metadata": {},
     "output_type": "execute_result"
    }
   ],
   "source": [
    "cd_ids"
   ]
  },
  {
   "cell_type": "markdown",
   "metadata": {},
   "source": [
    "# Get FASTA files\n",
    "\n",
    "All the FASTA files were downloaded from https://ftp.ncbi.nih.gov/pub/mmdb/cdd, extracted from `fasta.tar.gz` archive"
   ]
  },
  {
   "cell_type": "code",
   "execution_count": 114,
   "metadata": {},
   "outputs": [],
   "source": [
    "consensus_sequences = {}\n",
    "\n",
    "for uid in cd_ids:\n",
    "    filename = os.path.join(FASTA_DIR_PATH, f'{uid}.FASTA')\n",
    "    \n",
    "    # Check if the file exists\n",
    "    if os.path.exists(filename):\n",
    "        with open(filename, 'r') as fasta_file:\n",
    "            # Parse the FASTA file\n",
    "            for record in SeqIO.parse(fasta_file, 'fasta'):\n",
    "                # Check if the record id indicates a consensus sequence\n",
    "                if record.id.startswith('lcl|consensus'):\n",
    "                    consensus_sequences[uid] = str(record.seq)  # Store the consensus sequence\n",
    "                    break  # Stop after finding the consensus sequence"
   ]
  },
  {
   "cell_type": "code",
   "execution_count": 115,
   "metadata": {},
   "outputs": [
    {
     "name": "stdout",
     "output_type": "stream",
     "text": [
      ">pfam20483\n",
      "EEVDFCSHHYEKLTFKD---G-----R--TI--V---V-----PTRDQDEIIAKSRIRP-\n",
      "GGD-WSLDETAWLSKAYANMWLVNYFHLRTARALGFAYKSAVPPNWVPTGRTTGSIHRPG\n",
      "PWMTPEDMLDVWNRVWFGEST-HMP-DG-FRVRSWRHVGYLK-KREEKLYDSLIGLRNRA\n",
      "YWRSNLHLDV\n",
      ">pfam01004\n",
      "VALPPHVGLGLETRTETWMSSRGAWKQLQKVETWALRNPGFTVIALFIAHLIGSSITQKV\n",
      "IIFILLLLVTPAYS\n",
      ">pfam00972\n",
      "TYEADVILGIGTRSVATDKEPLNKEIIGERIERIKNEHMTTWFYDEDNPYRTWAYHGSYE\n",
      "TKTSGSASSMVNGVVRLLTKPWDVIEEVTRIAMTDTTPFGQQRVFKEKVDTRAPDPPAGT\n",
      "RQIMKVVNRWLWRHLAREKNPRLCTKEEFIAKVRSNAAIGAYFEEEEQWKTANEAVQDPR\n",
      "FWELVDRERELHQQGRCRTCVYNMMGKREKKLGEFGKAKGSRAIWYMWLGARFLEFEALG\n",
      "FLNEDHWASRENSGGGVEGIGLQYLGYILRDLAAMPGGGMYADDTAGWDTRITEADLDNE\n",
      "AEITNYMEPHHKKLAQAVMKMTYQNKVVKVLRPAPGGKTVMDVISRRDQRGSGQVVTYAL\n",
      "NTFTNLKVQLIRMMEAEMVIHHQHLQDCDES--ERVEAWLTEHGCDRLKRMAVSGDDCVV\n",
      "KPIDDRFALALSHLNDMGKVRKDISEWQPSKGW\n",
      ">cd23204\n",
      "MVNGVVKLLSKPWDVIEMVTQMAMTDTTPFGQQRVFKEKV-DTKAPEPPEGTRKIMRIVN\n",
      "EWLWKF-LARKKKPRLCTREEFIAKVRSNAALGAVFEEQNQWKSAREAVEDPRFWELVDE\n",
      "ERELHLEGKCETCVYNMMGKREKKLGEFGKAKGSRAIWYMWLGARFLEFEALGFLNEDHW\n",
      "ASRENSGGGVEGIGLQYLGYILREISKKPGGKMYADDTAGWDTRITEADLEDEEKILEYM\n",
      "EG--EHRKLAEAIFELTY-QNKVVKVMRPGP--GGGTVMDVISRRDQRGSGQVVTYALNT\n",
      "FTNMKVQLIRMMEGEGVITPEDLET---APRLKRVEDWLEENGEERLSRMAVSGDDCVVK\n",
      "PIDDRFATALTFLNDMGKVRKDIQEWEPSKGWNDWEEVPFCSHHFHELIMKDGRTLVVPC\n",
      "RDQDELIGRARVSPGAGWSLRETACLSKAYAQMWLLMYFHRRDLRLMANAICSAVPVDWV\n",
      "PTGRTTWSIHAKGEWMTTEDMLEVWNRVWIEDNPWMEDKTPVTSWRDVPYLGKREDQWCG\n",
      "SLIGLRSRATWAKNIQTAVN--QVRSLIGNEEYRDYL\n",
      ">cd23178\n",
      "IPTTIMPKNEVFCVEPGK-----GGRKPPRLIVYPDLGVRVAEKMALYDPVEVLPQVVGG\n",
      "SYYGFQYSPN-QRVEILRKAWKSKKGPMAYSYDTRCFDSTVTEDDIQVEEEIYQACSL-K\n",
      "EARQAIVSITERLYVEGPMVNSD-------GQICGRRRCRASGVLTTSAGNTXTCYLKXL\n",
      "AACREAG---------------------------IRLPTMLVCGDDCVVICESDGTQEDA\n",
      "ALLAAFTEALTRYGKPPKDPPQ-----PEYDLELIESCSHTVSEVRMKDGRRLYYLTRDP\n",
      "TTPLARAAWETGRH----EPINSWLGYIIMYALT\n",
      ">cd12480\n",
      "PPQPVSENPPNHILFLTNLPEETNELMLSMLFNQFPGFKEVRLVPGRHDIAFVEFDNEVQ\n",
      "AGAAREALQGFKITQSNAMKISFAKK\n",
      ">cd12477\n",
      "RPNHTIYINNLNEKIKKDELKKSLHAIFSRFGQILDILVSRSLKMRGQAFVIFKEVSSAT\n",
      "NALRSMQGFPFYDKPMRIQYAKTDSDIIA\n",
      ">pfam07652\n",
      "KGTLTVLDLHPGAGKTRKVLPELVRECIDRRLRTLVLAPTRVVLAEMEEALRGLPIRYHT\n",
      "PAVSSEHTGREIVDVMCHATFTQRLLS-PVRVPNYEVIIMDEAHFTDPASIAARGYISTL\n",
      "VELGEAAAIFMTATPPGTSDPFPESNA\n",
      ">pfam05578\n",
      "GPAVCKKITEHEKCHINILDKLTAFFGIMPRGTTPRAPVRFPTSLLKVRRGLETAWAYTH\n",
      "QGGISSVDHVTAGKDLLVCDSMGRTRVVCQSNNRLTDETEYGVKTDSGCPDGARCYVLNP\n",
      "EAVNISGSKGAVVHLQKTGGEFTCVTASGTPAFFDLKNLKGWSGLPIFEASSGRVVGRVK\n",
      "VGKNEESKPTKIMSGIQTVSKNRADLTEMVK\n",
      ">pfam00949\n",
      "LTDGILRFFQSSLL-GRSQ-------RGVGVLQEGVFHTMWHPTRGTKLHT---QGIKTS\n",
      "PSWASV---KQDLVDYGGSWKFQGKWLG-EEYQQY----------------------GYG\n",
      "LGITDLNLSSGSSGSLVLNQNKQIVGIYFATVEVDDN---SFVVGLAQL\n",
      ">pfam00869\n",
      "HCIGIGDRDFIEGLHGATWVDATLEHDKCVTTMAKDKPSLDIELEKTAIDNPAELRKLCI\n",
      "EAKISHTKIDDKCPSQGEAHLAEENDGDFACKRTFSDRGHGNGCGLFGKGSIIACAKFKC\n",
      "AKKLEGFEVDQEKIKYSIIAQLHTGAKHENGNEDIEHGTIAKFDALAGSQEIEFIDYGAA\n",
      "TLDCQPQTALDFGEMVIAEMEKESWIVDKQWALDLPLPWQSGASTSGETWNEMDHLVEFE\n",
      "PAHAAKIEVLALGNQEGALHTALTGAMEIQTKDTNDNNLYKIFAGHLKCRLKLDALTLKG\n",
      ">pfam01570\n",
      "RKNRWLLLNVTSEDLGKTF----SVGTGNCTTNILEAKYWCPDSMEYNCPNLSPREEPDD\n",
      "IDCWCYGVENVRVAYGKCDSAG\n",
      ">pfam01003\n",
      "GKPGKGRGVNMLKRGAKRV--PLKKTKRKTGQLLDGRGPLRLVLAFLAFFR---FTAIAP\n",
      "TPGLKKRWRTVPKRQAIKHLRKFKKEVGTLLDGL-NRRGKRRSKRGGWTGLLLML----G\n",
      "LLTLVLA\n",
      ">cd17038\n",
      "SVAIPPHGTGGLTT-RKETWLSTSNGKEHLTRVERWVLRNPGYALAAVALAWMLGSSTTQ\n",
      "RVIIIVLLLLVAPAYA\n",
      "\n"
     ]
    }
   ],
   "source": [
    "# Create a list to hold SeqRecord objects\n",
    "records = []\n",
    "\n",
    "# Create SeqRecord objects for each entry in the dictionary\n",
    "for uid, sequence in consensus_sequences.items():\n",
    "    record = SeqRecord(Seq(sequence), id=uid, description=\"\")\n",
    "    records.append(record)\n",
    "\n",
    "# Use StringIO to capture the FASTA formatted output\n",
    "output = StringIO()\n",
    "SeqIO.write(records, output, \"fasta\")\n",
    "fasta_string = output.getvalue()\n",
    "\n",
    "# Print the resulting FASTA string\n",
    "print(fasta_string)"
   ]
  },
  {
   "cell_type": "code",
   "execution_count": 116,
   "metadata": {},
   "outputs": [
    {
     "name": "stdout",
     "output_type": "stream",
     "text": [
      "FASTA file 'Flavivirus.FASTA' has been created.\n"
     ]
    }
   ],
   "source": [
    "output_fasta_file = f'{TERM}.FASTA'\n",
    "with open(output_fasta_file, 'w') as fasta_file:\n",
    "    fasta_file.write(fasta_string)\n",
    "\n",
    "print(f\"FASTA file '{output_fasta_file}' has been created.\")"
   ]
  },
  {
   "cell_type": "code",
   "execution_count": 117,
   "metadata": {},
   "outputs": [
    {
     "name": "stdout",
     "output_type": "stream",
     "text": [
      ">pfam20483\n",
      "WSLDETAWLSKAYANMWLVNYFHLRTARALGFAYKSAVPPNWVPTGRTTGSIHRPGPWMT\n",
      "PEDMLDVWNRVWFGEST\n",
      ">pfam01004\n",
      "VALPPHVGLGLETRTETWMSSRGAWKQLQKVETWALRNPGFTVIALFIAHLIGSSITQKV\n",
      "IIFILLLLVTPAYS\n",
      ">pfam00972\n",
      "TYEADVILGIGTRSVATDKEPLNKEIIGERIERIKNEHMTTWFYDEDNPYRTWAYHGSYE\n",
      "TKTSGSASSMVNGVVRLLTKPWDVIEEVTRIAMTDTTPFGQQRVFKEKVDTRAPDPPAGT\n",
      "RQIMKVVNRWLWRHLAREKNPRLCTKEEFIAKVRSNAAIGAYFEEEEQWKTANEAVQDPR\n",
      "FWELVDRERELHQQGRCRTCVYNMMGKREKKLGEFGKAKGSRAIWYMWLGARFLEFEALG\n",
      "FLNEDHWASRENSGGGVEGIGLQYLGYILRDLAAMPGGGMYADDTAGWDTRITEADLDNE\n",
      "AEITNYMEPHHKKLAQAVMKMTYQNKVVKVLRPAPGGKTVMDVISRRDQRGSGQVVTYAL\n",
      "NTFTNLKVQLIRMMEAEMVIHHQHLQDCDES\n",
      ">cd23204\n",
      "APRLKRVEDWLEENGEERLSRMAVSGDDCVVKPIDDRFATALTFLNDMGKVRKDIQEWEP\n",
      "SKGWNDWEEVPFCSHHFHELIMKDGRTLVVPCRDQDELIGRARVSPGAGWSLRETACLSK\n",
      "AYAQMWLLMYFHRRDLRLMANAICSAVPVDWVPTGRTTWSIHAKGEWMTTEDMLEVWNRV\n",
      "WIEDNPWMEDKTPVTSWRDVPYLGKREDQWCGSLIGLRSRATWAKNIQTAVN\n",
      ">cd23178\n",
      "IRLPTMLVCGDDCVVICESDGTQEDAALLAAFTEALTRYGKPPKDPPQ\n",
      ">cd12480\n",
      "PPQPVSENPPNHILFLTNLPEETNELMLSMLFNQFPGFKEVRLVPGRHDIAFVEFDNEVQ\n",
      "AGAAREALQGFKITQSNAMKISFAKK\n",
      ">cd12477\n",
      "RPNHTIYINNLNEKIKKDELKKSLHAIFSRFGQILDILVSRSLKMRGQAFVIFKEVSSAT\n",
      "NALRSMQGFPFYDKPMRIQYAKTDSDIIA\n",
      ">pfam07652\n",
      "KGTLTVLDLHPGAGKTRKVLPELVRECIDRRLRTLVLAPTRVVLAEMEEALRGLPIRYHT\n",
      "PAVSSEHTGREIVDVMCHATFTQRLLS\n",
      ">pfam05578\n",
      "GPAVCKKITEHEKCHINILDKLTAFFGIMPRGTTPRAPVRFPTSLLKVRRGLETAWAYTH\n",
      "QGGISSVDHVTAGKDLLVCDSMGRTRVVCQSNNRLTDETEYGVKTDSGCPDGARCYVLNP\n",
      "EAVNISGSKGAVVHLQKTGGEFTCVTASGTPAFFDLKNLKGWSGLPIFEASSGRVVGRVK\n",
      "VGKNEESKPTKIMSGIQTVSKNRADLTEMVK\n",
      ">pfam00949\n",
      "GYGLGITDLNLSSGSSGSLVLNQNKQIVGIYFATVEVDDN\n",
      ">pfam00869\n",
      "HCIGIGDRDFIEGLHGATWVDATLEHDKCVTTMAKDKPSLDIELEKTAIDNPAELRKLCI\n",
      "EAKISHTKIDDKCPSQGEAHLAEENDGDFACKRTFSDRGHGNGCGLFGKGSIIACAKFKC\n",
      "AKKLEGFEVDQEKIKYSIIAQLHTGAKHENGNEDIEHGTIAKFDALAGSQEIEFIDYGAA\n",
      "TLDCQPQTALDFGEMVIAEMEKESWIVDKQWALDLPLPWQSGASTSGETWNEMDHLVEFE\n",
      "PAHAAKIEVLALGNQEGALHTALTGAMEIQTKDTNDNNLYKIFAGHLKCRLKLDALTLKG\n",
      ">pfam01570\n",
      "SVGTGNCTTNILEAKYWCPDSMEYNCPNLSPREEPDDIDCWCYGVENVRVAYGKCDSAG\n",
      ">pfam01003\n",
      "FTAIAPTPGLKKRWRTVPKRQAIKHLRKFKKEVGTLLDGL\n",
      ">cd17038\n",
      "RKETWLSTSNGKEHLTRVERWVLRNPGYALAAVALAWMLGSSTTQRVIIIVLLLLVAPAY\n",
      "A\n",
      "\n"
     ]
    }
   ],
   "source": [
    "# Create a list to hold SeqRecord objects\n",
    "records = []\n",
    "\n",
    "# Create SeqRecord objects for each entry in the dictionary\n",
    "for uid, sequence in consensus_sequences.items():\n",
    "\n",
    "    # Find all contiguous uppercase letter sequences\n",
    "    matches = re.findall(r'[A-Z]+', sequence)  # Find all sequences of uppercase letters\n",
    "    \n",
    "    if matches:  # Check if there are any matches\n",
    "        # Get the longest sequence\n",
    "        longest_sequence = max(matches, key=len)\n",
    "        record = SeqRecord(Seq(longest_sequence), id=uid, description=\"\")\n",
    "        records.append(record)\n",
    "\n",
    "# Use StringIO to capture the FASTA formatted output\n",
    "output = StringIO()\n",
    "SeqIO.write(records, output, \"fasta\")\n",
    "fasta_string = output.getvalue()\n",
    "\n",
    "# Print the resulting FASTA string\n",
    "print(fasta_string)"
   ]
  },
  {
   "cell_type": "code",
   "execution_count": 118,
   "metadata": {},
   "outputs": [
    {
     "name": "stdout",
     "output_type": "stream",
     "text": [
      "FASTA file 'Flavivirus_cleaned.FASTA' has been created.\n"
     ]
    }
   ],
   "source": [
    "output_fasta_file = f'{TERM}_cleaned.FASTA'\n",
    "with open(output_fasta_file, 'w') as fasta_file:\n",
    "    fasta_file.write(fasta_string)\n",
    "\n",
    "print(f\"FASTA file '{output_fasta_file}' has been created.\")"
   ]
  },
  {
   "cell_type": "code",
   "execution_count": 119,
   "metadata": {},
   "outputs": [
    {
     "data": {
      "text/plain": [
       "['ps-ssRNAv_RdRp-like Superfamily',\n",
       " 'RRM_SF Superfamily',\n",
       " 'Flavi_M Superfamily',\n",
       " 'Flavi_NS5_thumb',\n",
       " 'Flavi_M',\n",
       " 'Flavi_NS5',\n",
       " 'Peptidase_S7 Superfamily',\n",
       " 'Flavivirus_RdRp',\n",
       " 'ps-ssRNAv_Flaviviridae_RdRp',\n",
       " 'RRM2_U1A',\n",
       " 'RRM1_U1A',\n",
       " 'Flavi_DEAD',\n",
       " 'Peptidase_S31',\n",
       " 'Peptidase_S7',\n",
       " 'Flavi_glycoprot',\n",
       " 'Flavi_propep',\n",
       " 'Flavi_capsid',\n",
       " 'STAT_CCD Superfamily',\n",
       " 'STAT_DBD Superfamily',\n",
       " 'Flavi_M']"
      ]
     },
     "execution_count": 119,
     "metadata": {},
     "output_type": "execute_result"
    }
   ],
   "source": [
    "proteins"
   ]
  },
  {
   "cell_type": "code",
   "execution_count": 120,
   "metadata": {},
   "outputs": [
    {
     "data": {
      "text/plain": [
       "['cl40470',\n",
       " 'cl17169',\n",
       " 'cl03065',\n",
       " 'pfam20483',\n",
       " 'pfam01004',\n",
       " 'pfam00972',\n",
       " 'cl29867',\n",
       " 'cd23204',\n",
       " 'cd23178',\n",
       " 'cd12480',\n",
       " 'cd12477',\n",
       " 'pfam07652',\n",
       " 'pfam05578',\n",
       " 'pfam00949',\n",
       " 'pfam00869',\n",
       " 'pfam01570',\n",
       " 'pfam01003',\n",
       " 'cl28921',\n",
       " 'cl28920',\n",
       " 'cd17038']"
      ]
     },
     "execution_count": 120,
     "metadata": {},
     "output_type": "execute_result"
    }
   ],
   "source": [
    "cd_ids"
   ]
  },
  {
   "cell_type": "code",
   "execution_count": null,
   "metadata": {},
   "outputs": [],
   "source": []
  }
 ],
 "metadata": {
  "kernelspec": {
   "display_name": "Python 3",
   "language": "python",
   "name": "python3"
  },
  "language_info": {
   "codemirror_mode": {
    "name": "ipython",
    "version": 3
   },
   "file_extension": ".py",
   "mimetype": "text/x-python",
   "name": "python",
   "nbconvert_exporter": "python",
   "pygments_lexer": "ipython3",
   "version": "3.11.10"
  }
 },
 "nbformat": 4,
 "nbformat_minor": 2
}
