{
 "cells": [
  {
   "cell_type": "markdown",
   "metadata": {},
   "source": [
    "# Imports and set up"
   ]
  },
  {
   "cell_type": "code",
   "execution_count": 148,
   "metadata": {},
   "outputs": [],
   "source": [
    "import os, sys\n",
    "import re\n",
    "\n",
    "import requests\n",
    "from lxml import etree\n",
    "from bs4 import BeautifulSoup\n",
    "\n",
    "from Bio import SeqIO\n",
    "from Bio.Blast import NCBIWWW\n",
    "from Bio import Entrez"
   ]
  },
  {
   "cell_type": "code",
   "execution_count": 12,
   "metadata": {},
   "outputs": [],
   "source": [
    "# Set up the Entrez email address\n",
    "Entrez.email = \"timofei.ryko@gmail.com\"\n",
    "\n",
    "# Set up the search parameters\n",
    "query = \"Coronaviridae antigen\"\n",
    "db = \"cdd\""
   ]
  },
  {
   "cell_type": "markdown",
   "metadata": {},
   "source": [
    "# Search protein identifiers by term"
   ]
  },
  {
   "cell_type": "code",
   "execution_count": 7,
   "metadata": {},
   "outputs": [],
   "source": [
    "# Perform the Entrez search to get the unique identifiers\n",
    "handle = Entrez.esearch(db=db, term=query)\n",
    "record = Entrez.read(handle)\n",
    "handle.close()\n",
    "\n",
    "# Get the list of unique identifiers\n",
    "ids = record['IdList']"
   ]
  },
  {
   "cell_type": "code",
   "execution_count": 8,
   "metadata": {},
   "outputs": [
    {
     "data": {
      "text/plain": [
       "['465119', '394953', '394951', '394949', '394831', '394823']"
      ]
     },
     "execution_count": 8,
     "metadata": {},
     "output_type": "execute_result"
    }
   ],
   "source": [
    "ids"
   ]
  },
  {
   "cell_type": "markdown",
   "metadata": {},
   "source": [
    "# Find conserved domains (FAILED)"
   ]
  },
  {
   "cell_type": "code",
   "execution_count": 126,
   "metadata": {},
   "outputs": [],
   "source": [
    "DATA = {\n",
    "    'tdata': 'aligns',\n",
    "    'alnfmt': 'json',\n",
    "    'dmode': 'all'\n",
    "}"
   ]
  },
  {
   "cell_type": "code",
   "execution_count": 127,
   "metadata": {},
   "outputs": [
    {
     "data": {
      "text/plain": [
       "'https://www.ncbi.nlm.nih.gov/Structure/bwrpsb/bwrpsb.cgi?queries=465119%0A394953%0A394951%0A394949%0A394831%0A394823&&tdata=aligns&alnfmt=json&dmode=all'"
      ]
     },
     "execution_count": 127,
     "metadata": {},
     "output_type": "execute_result"
    }
   ],
   "source": [
    "QUERY = f\"https://www.ncbi.nlm.nih.gov/Structure/bwrpsb/bwrpsb.cgi?queries={'%0A'.join(ids)}&&tdata=aligns&alnfmt=json&dmode=all\"\n",
    "QUERY"
   ]
  },
  {
   "cell_type": "code",
   "execution_count": 128,
   "metadata": {},
   "outputs": [
    {
     "data": {
      "text/plain": [
       "<Response [200]>"
      ]
     },
     "execution_count": 128,
     "metadata": {},
     "output_type": "execute_result"
    }
   ],
   "source": [
    "response = requests.get(QUERY, data=DATA)\n",
    "response"
   ]
  },
  {
   "cell_type": "code",
   "execution_count": 129,
   "metadata": {},
   "outputs": [
    {
     "data": {
      "text/plain": [
       "{'Seq_annot': {'id': [{'local': {'str': 'QM3-qcdsearch-C05004FAA30DADE-3243E42F47818BC9'}}],\n",
       "  'name': 'Batch CD-search tool - NIH/NLM/NCBI',\n",
       "  'desc': [{'comment': 'status=3'}, {'comment': 'msg=Job is still running'}],\n",
       "  'data': {'ids': [{'local': {'str': 'aligns Standard Results'}}]}}}"
      ]
     },
     "execution_count": 129,
     "metadata": {},
     "output_type": "execute_result"
    }
   ],
   "source": [
    "search_data = response.json()\n",
    "search_data"
   ]
  },
  {
   "cell_type": "code",
   "execution_count": 130,
   "metadata": {},
   "outputs": [
    {
     "data": {
      "text/plain": [
       "'https://www.ncbi.nlm.nih.gov/Structure/bwrpsb/bwrpsb.cgi?cdsid=QM3-qcdsearch-C05004FAA30DADE-3243E42F47818BC9&tdata=aligns&alnfmt=json&dmode=all'"
      ]
     },
     "execution_count": 130,
     "metadata": {},
     "output_type": "execute_result"
    }
   ],
   "source": [
    "search_id = search_data['Seq_annot']['id'][0]['local']['str']\n",
    "\n",
    "SEARCH_QUERY = f\"https://www.ncbi.nlm.nih.gov/Structure/bwrpsb/bwrpsb.cgi?cdsid={search_id}&tdata=aligns&alnfmt=json&dmode=all\"\n",
    "SEARCH_QUERY"
   ]
  },
  {
   "cell_type": "code",
   "execution_count": 131,
   "metadata": {},
   "outputs": [
    {
     "data": {
      "text/plain": [
       "<Response [200]>"
      ]
     },
     "execution_count": 131,
     "metadata": {},
     "output_type": "execute_result"
    }
   ],
   "source": [
    "response = requests.post(SEARCH_QUERY, data=DATA)\n",
    "response"
   ]
  },
  {
   "cell_type": "code",
   "execution_count": 132,
   "metadata": {},
   "outputs": [
    {
     "data": {
      "text/plain": [
       "{'Seq_annot': {'id': [{'local': {'str': 'QM3-qcdsearch-C05004FAA30DADE-3243E42F47818BC9'}}],\n",
       "  'name': 'Batch CD-search tool - NIH/NLM/NCBI',\n",
       "  'desc': [{'comment': 'status=0'}],\n",
       "  'data': {'ids': [{'local': {'str': 'aligns Standard Results'}}]}}}"
      ]
     },
     "execution_count": 132,
     "metadata": {},
     "output_type": "execute_result"
    }
   ],
   "source": [
    "response.json()"
   ]
  },
  {
   "cell_type": "markdown",
   "metadata": {},
   "source": [
    "# Convert PSSM ID to a CDD (FAILED)"
   ]
  },
  {
   "cell_type": "code",
   "execution_count": 110,
   "metadata": {},
   "outputs": [],
   "source": [
    "records = []\n",
    "for id in ids:\n",
    "    handle = Entrez.efetch(db=db, id=id, rettype=\"gb\", retmode=\"text\")\n",
    "    record = Entrez.read(handle)\n",
    "    records.append(record)\n",
    "    handle.close()\n"
   ]
  },
  {
   "cell_type": "code",
   "execution_count": 111,
   "metadata": {},
   "outputs": [
    {
     "data": {
      "text/plain": [
       "['465119']"
      ]
     },
     "execution_count": 111,
     "metadata": {},
     "output_type": "execute_result"
    }
   ],
   "source": [
    "records[0]"
   ]
  },
  {
   "cell_type": "code",
   "execution_count": 109,
   "metadata": {},
   "outputs": [
    {
     "data": {
      "text/plain": [
       "['465119', '394953', '394951', '394949', '394831', '394823']"
      ]
     },
     "execution_count": 109,
     "metadata": {},
     "output_type": "execute_result"
    }
   ],
   "source": [
    "ids"
   ]
  },
  {
   "cell_type": "markdown",
   "metadata": {},
   "source": [
    "# BAD convert of IDs using bs4"
   ]
  },
  {
   "cell_type": "code",
   "execution_count": 140,
   "metadata": {},
   "outputs": [],
   "source": [
    "page = requests.get('https://www.ncbi.nlm.nih.gov/Structure/cdd/cddsrv.cgi?uid=394953')"
   ]
  },
  {
   "cell_type": "code",
   "execution_count": 135,
   "metadata": {},
   "outputs": [],
   "source": [
    "soup = BeautifulSoup(page.content, 'html.parser')"
   ]
  },
  {
   "cell_type": "code",
   "execution_count": 156,
   "metadata": {},
   "outputs": [],
   "source": [
    "div = soup.find('div', class_='lkbct', id='leftmenu-0')\n",
    "link = div.find('a', class_='alink')\n",
    "accession = link.text\n",
    "# Not a good way!"
   ]
  },
  {
   "cell_type": "code",
   "execution_count": 165,
   "metadata": {},
   "outputs": [
    {
     "data": {
      "text/plain": [
       "'cd21470'"
      ]
     },
     "execution_count": 165,
     "metadata": {},
     "output_type": "execute_result"
    }
   ],
   "source": [
    "div = soup.find('div', class_='title')\n",
    "links = div.find_all('a')\n",
    "for link in links:\n",
    "    href = link.get('href', '')\n",
    "    # Use regex to check if href starts with the desired pattern\n",
    "    if re.match(r'^/Structure/cdd/cddsrv\\.cgi\\?.*', href):\n",
    "        matching_link = link\n",
    "        break  # Stop after finding the first matching link\n",
    "\n",
    "if matching_link:\n",
    "    # Extract the href and parse the uid parameter\n",
    "    href = matching_link['href']\n",
    "    uid = re.search(r'uid=([^&]+)', href)  # Extract uid using regex\n",
    "\n",
    "uid.group(1)"
   ]
  },
  {
   "cell_type": "code",
   "execution_count": 149,
   "metadata": {},
   "outputs": [],
   "source": [
    "prefixes = [\n",
    "    \"Source Database\",\n",
    "    \"cd\",\n",
    "    \"sd\",\n",
    "    \"NF\",\n",
    "    \"pfam\",\n",
    "    \"smart\",\n",
    "    \"COG\",\n",
    "    \"KOG\",\n",
    "    \"PRK\",\n",
    "    \"CHL\",\n",
    "    \"MTH\",\n",
    "    \"PHA\",\n",
    "    \"PLN\",\n",
    "    \"PTZ\",\n",
    "    \"TIGR\",\n",
    "    \"LOAD_\"\n",
    "]\n",
    "\n",
    "# Prepare a regex pattern to match prefixes followed by digits\n",
    "prefix_pattern = r'|'.join([re.escape(prefix) + r'\\d+' for prefix in prefixes])"
   ]
  },
  {
   "cell_type": "code",
   "execution_count": 166,
   "metadata": {},
   "outputs": [],
   "source": [
    "cd_ids = []\n",
    "\n",
    "for pssm_id in ids:\n",
    "\n",
    "    page = requests.get(f'https://www.ncbi.nlm.nih.gov/Structure/cdd/cddsrv.cgi?uid={pssm_id}')\n",
    "    soup = BeautifulSoup(page.content, 'html.parser')\n",
    "\n",
    "    div = soup.find('div', class_='title')\n",
    "    links = div.find_all('a')\n",
    "    for link in links:\n",
    "        href = link.get('href', '')\n",
    "        # Use regex to check if href starts with the desired pattern\n",
    "        if re.match(r'^/Structure/cdd/cddsrv\\.cgi\\?.*', href):\n",
    "            matching_link = link\n",
    "            break  # Stop after finding the first matching link\n",
    "\n",
    "    if matching_link:\n",
    "        # Extract the href and parse the uid parameter\n",
    "        href = matching_link['href']\n",
    "        uid_match = re.search(r'uid=([^&]+)', href)  # Extract uid using regex\n",
    "        uid = uid_match.group(1)\n",
    "        # Check if uid starts with any of the specified prefixes followed by digits\n",
    "        if re.match(rf'^{prefix_pattern}', uid):\n",
    "            cd_ids.append(uid)\n",
    "        else:\n",
    "            print(f\"UID {uid} does not match the required pattern.\")\n",
    "\n",
    "assert len(ids) == len(cd_ids)"
   ]
  },
  {
   "cell_type": "code",
   "execution_count": 167,
   "metadata": {},
   "outputs": [
    {
     "data": {
      "text/plain": [
       "['pfam16451', 'cd21627', 'cd21625', 'cd21527', 'cd21484', 'cd21470']"
      ]
     },
     "execution_count": 167,
     "metadata": {},
     "output_type": "execute_result"
    }
   ],
   "source": [
    "cd_ids"
   ]
  },
  {
   "cell_type": "markdown",
   "metadata": {},
   "source": [
    "# Get FASTA files\n",
    "\n",
    "All the FASTA files were downloaded from https://ftp.ncbi.nih.gov/pub/mmdb/cdd, extracted from `fasta.tar.gz` archive"
   ]
  },
  {
   "cell_type": "code",
   "execution_count": 168,
   "metadata": {},
   "outputs": [],
   "source": [
    "FASTA_DIR_PATH = '/home/timofeiryko/Downloads/fasta'\n",
    "\n",
    "consensus_sequences = {}\n",
    "\n",
    "for uid in cd_ids:\n",
    "    filename = os.path.join(FASTA_DIR_PATH, f'{uid}.FASTA')\n",
    "    \n",
    "    # Check if the file exists\n",
    "    if os.path.exists(filename):\n",
    "        with open(filename, 'r') as fasta_file:\n",
    "            # Parse the FASTA file\n",
    "            for record in SeqIO.parse(fasta_file, 'fasta'):\n",
    "                # Check if the record id indicates a consensus sequence\n",
    "                if record.id.startswith('lcl|consensus'):\n",
    "                    consensus_sequences[uid] = str(record.seq)  # Store the consensus sequence\n",
    "                    break  # Stop after finding the consensus sequence"
   ]
  },
  {
   "cell_type": "code",
   "execution_count": 174,
   "metadata": {},
   "outputs": [
    {
     "name": "stdout",
     "output_type": "stream",
     "text": [
      "DVSKADG--TYYLPDRVY-SNTTTLRQGLFPKQGDNVTNY-VYSPAH-------HCGKR-------NFSTPF---LP--------FGD-GIFVHIGNASNA---TGGRIIS-----------EPPAFVFGSTFGNTS----------HTLIIAPDS----------CQTNLTILVC-----------------NFTLCANPVTACRWG-AGNYNANNSLVYFK---NAINCTFNRTY-NITFDTS-----------LIYFGFKQQDGGFHIYYSYWL--------PDLDSGPPTLFPFATLPLGINITYFQVIPS---SIR----STQN------CRRANAAYYVAPLKPSTFLLDFDVNGYITNAVDCSFDPLSELKCSTGSFEPDTGVYSTSSYRAQPVGSVYVRQPNVTCD\n",
      "414\n",
      "---\n",
      "HNITYVSFSV-NKVSRLLPDPYIAYSGQTVRQSLYVADTSNTTVYPVTPPAVGG-----KPGIYNTTILPVGDGLFVHTYMYRQQ-------DSSNTYCQEPFGVAFGNTFEQDRIAIVIIAPGNLGSWPAVSKRTTTNVHILVCSNATLCANPAFNRWGPAGSI--YASDAFVCHGNSCFVNNTFII-PINTSRINLAFRFKDGNLLLYHSAWLPTSG---LNLSGDYPLHYYMSVPVGFNLPNAQFFQSVVRPNTEP------ADGACAAFQNNLYIAPLSKRELLVSYDDNGSPVNVADCSADAGSELYCV\n",
      "314\n",
      "---\n",
      "IGDFKCTT-----VSINDVNTGAPSISTETVDVSNGLGTYYVLDRVYLNTTLLLNGYYPTSGSTYRNLALKGTLLLSTLWFKPPFLSEFNNGIFAKVKNTKVSKNG-VMYSEFPTIVIGSTFVNTSYTVVVQPHTGNSDN----KLQGILEISVCQYTMCEYPNTICKPNL-GNQRIELWHTDTGV-PSCLYKRNFTYDVNADWLYFHFYQEGGTFYAYYADTGSVTTFLFSVYLGTVLSHYYVMPLTCNST-----ALTLEYWVTPLTKRQYLLAFNQDGVITNAVDCASDFMSEIKCKT\n",
      "301\n",
      "---\n",
      "KISTHTSDVSKGLGTYYPDDRVYSNTTLLLQGLFPYDGSNFTNYALKGSHALGT------LWFYPPFVSPFNNGIFVKVKNTKNST---------SATIYSEYPAIVFGSTFG---------NTSYTVVIQPDNGG----------TLLEASACQYEMC-----------EYNATICVPKTDGSDGNY--------SWHIDSNAFNCTFEYNFTYN---------VNADLLYFGFYQEDGTLYAYYSDYVD-------LYGGPLKFLFSLPLGDNLTNYYVIPLTCRSIQS----------SDRKFAAAYYVTYLTPRTFLLNFDENGVITNAVDCSSNFLSELKCS\n",
      "347\n",
      "---\n",
      "SGYTVQPVGVVYRRVPNLPDCKIEEWLTAKSVPSPLNWERKTFQNCNFNLSSLLRYVQAESLSCNNIDASKVYGMCFGSISIDKFAIPNSRRVDLQLGNSGFLQSFNYKIDTRATSCQLYYSLAQNNVTVNNHNPSSWNRRYGFNDVA--TFGKGKHDVAYAQQCFTVGASYCPCAQPSIVSPCTTDKPK--------------------------------------------------------RCLQGDSCLGVGDHCDGLGVLEDKCGGS---NGCNCAADAFVGWSHDSCLSNGRCQIFANLLLNGINSGTTCSTDLQLP\n",
      "325\n",
      "---\n",
      "VKPSGSVVRRPNNTPLCDFSEWLNATSVPSVYNWERKVFSNCNFNLSKLLSLFSVDSFTCNGISPAKIAGLCFSSITVDKFAIPLSRKSDLQPGSAGFIQDYNYKIDFDNTSCQLAYNLPANN---------------------------ATITKNHDYVYIQK------------------------------------------------------------------------------------------------------------FLGWSTDGCTS----GDQCQIFFNISFQYGNASGTVCS\n",
      "310\n",
      "---\n"
     ]
    }
   ],
   "source": [
    "for el in consensus_sequences.values():\n",
    "    print(el)\n",
    "    print(len(el))\n",
    "    print('---')"
   ]
  },
  {
   "cell_type": "code",
   "execution_count": 175,
   "metadata": {},
   "outputs": [
    {
     "data": {
      "text/plain": [
       "{'pfam16451': 'DVSKADG--TYYLPDRVY-SNTTTLRQGLFPKQGDNVTNY-VYSPAH-------HCGKR-------NFSTPF---LP--------FGD-GIFVHIGNASNA---TGGRIIS-----------EPPAFVFGSTFGNTS----------HTLIIAPDS----------CQTNLTILVC-----------------NFTLCANPVTACRWG-AGNYNANNSLVYFK---NAINCTFNRTY-NITFDTS-----------LIYFGFKQQDGGFHIYYSYWL--------PDLDSGPPTLFPFATLPLGINITYFQVIPS---SIR----STQN------CRRANAAYYVAPLKPSTFLLDFDVNGYITNAVDCSFDPLSELKCSTGSFEPDTGVYSTSSYRAQPVGSVYVRQPNVTCD',\n",
       " 'cd21627': 'HNITYVSFSV-NKVSRLLPDPYIAYSGQTVRQSLYVADTSNTTVYPVTPPAVGG-----KPGIYNTTILPVGDGLFVHTYMYRQQ-------DSSNTYCQEPFGVAFGNTFEQDRIAIVIIAPGNLGSWPAVSKRTTTNVHILVCSNATLCANPAFNRWGPAGSI--YASDAFVCHGNSCFVNNTFII-PINTSRINLAFRFKDGNLLLYHSAWLPTSG---LNLSGDYPLHYYMSVPVGFNLPNAQFFQSVVRPNTEP------ADGACAAFQNNLYIAPLSKRELLVSYDDNGSPVNVADCSADAGSELYCV',\n",
       " 'cd21625': 'IGDFKCTT-----VSINDVNTGAPSISTETVDVSNGLGTYYVLDRVYLNTTLLLNGYYPTSGSTYRNLALKGTLLLSTLWFKPPFLSEFNNGIFAKVKNTKVSKNG-VMYSEFPTIVIGSTFVNTSYTVVVQPHTGNSDN----KLQGILEISVCQYTMCEYPNTICKPNL-GNQRIELWHTDTGV-PSCLYKRNFTYDVNADWLYFHFYQEGGTFYAYYADTGSVTTFLFSVYLGTVLSHYYVMPLTCNST-----ALTLEYWVTPLTKRQYLLAFNQDGVITNAVDCASDFMSEIKCKT',\n",
       " 'cd21527': 'KISTHTSDVSKGLGTYYPDDRVYSNTTLLLQGLFPYDGSNFTNYALKGSHALGT------LWFYPPFVSPFNNGIFVKVKNTKNST---------SATIYSEYPAIVFGSTFG---------NTSYTVVIQPDNGG----------TLLEASACQYEMC-----------EYNATICVPKTDGSDGNY--------SWHIDSNAFNCTFEYNFTYN---------VNADLLYFGFYQEDGTLYAYYSDYVD-------LYGGPLKFLFSLPLGDNLTNYYVIPLTCRSIQS----------SDRKFAAAYYVTYLTPRTFLLNFDENGVITNAVDCSSNFLSELKCS',\n",
       " 'cd21484': 'SGYTVQPVGVVYRRVPNLPDCKIEEWLTAKSVPSPLNWERKTFQNCNFNLSSLLRYVQAESLSCNNIDASKVYGMCFGSISIDKFAIPNSRRVDLQLGNSGFLQSFNYKIDTRATSCQLYYSLAQNNVTVNNHNPSSWNRRYGFNDVA--TFGKGKHDVAYAQQCFTVGASYCPCAQPSIVSPCTTDKPK--------------------------------------------------------RCLQGDSCLGVGDHCDGLGVLEDKCGGS---NGCNCAADAFVGWSHDSCLSNGRCQIFANLLLNGINSGTTCSTDLQLP',\n",
       " 'cd21470': 'VKPSGSVVRRPNNTPLCDFSEWLNATSVPSVYNWERKVFSNCNFNLSKLLSLFSVDSFTCNGISPAKIAGLCFSSITVDKFAIPLSRKSDLQPGSAGFIQDYNYKIDFDNTSCQLAYNLPANN---------------------------ATITKNHDYVYIQK------------------------------------------------------------------------------------------------------------FLGWSTDGCTS----GDQCQIFFNISFQYGNASGTVCS'}"
      ]
     },
     "execution_count": 175,
     "metadata": {},
     "output_type": "execute_result"
    }
   ],
   "source": [
    "consensus_sequences"
   ]
  },
  {
   "cell_type": "code",
   "execution_count": 176,
   "metadata": {},
   "outputs": [
    {
     "name": "stdout",
     "output_type": "stream",
     "text": [
      ">pfam16451\n",
      "DVSKADG--TYYLPDRVY-SNTTTLRQGLFPKQGDNVTNY-VYSPAH-------HCGKR-\n",
      "------NFSTPF---LP--------FGD-GIFVHIGNASNA---TGGRIIS---------\n",
      "--EPPAFVFGSTFGNTS----------HTLIIAPDS----------CQTNLTILVC----\n",
      "-------------NFTLCANPVTACRWG-AGNYNANNSLVYFK---NAINCTFNRTY-NI\n",
      "TFDTS-----------LIYFGFKQQDGGFHIYYSYWL--------PDLDSGPPTLFPFAT\n",
      "LPLGINITYFQVIPS---SIR----STQN------CRRANAAYYVAPLKPSTFLLDFDVN\n",
      "GYITNAVDCSFDPLSELKCSTGSFEPDTGVYSTSSYRAQPVGSVYVRQPNVTCD\n",
      ">cd21627\n",
      "HNITYVSFSV-NKVSRLLPDPYIAYSGQTVRQSLYVADTSNTTVYPVTPPAVGG-----K\n",
      "PGIYNTTILPVGDGLFVHTYMYRQQ-------DSSNTYCQEPFGVAFGNTFEQDRIAIVI\n",
      "IAPGNLGSWPAVSKRTTTNVHILVCSNATLCANPAFNRWGPAGSI--YASDAFVCHGNSC\n",
      "FVNNTFII-PINTSRINLAFRFKDGNLLLYHSAWLPTSG---LNLSGDYPLHYYMSVPVG\n",
      "FNLPNAQFFQSVVRPNTEP------ADGACAAFQNNLYIAPLSKRELLVSYDDNGSPVNV\n",
      "ADCSADAGSELYCV\n",
      ">cd21625\n",
      "IGDFKCTT-----VSINDVNTGAPSISTETVDVSNGLGTYYVLDRVYLNTTLLLNGYYPT\n",
      "SGSTYRNLALKGTLLLSTLWFKPPFLSEFNNGIFAKVKNTKVSKNG-VMYSEFPTIVIGS\n",
      "TFVNTSYTVVVQPHTGNSDN----KLQGILEISVCQYTMCEYPNTICKPNL-GNQRIELW\n",
      "HTDTGV-PSCLYKRNFTYDVNADWLYFHFYQEGGTFYAYYADTGSVTTFLFSVYLGTVLS\n",
      "HYYVMPLTCNST-----ALTLEYWVTPLTKRQYLLAFNQDGVITNAVDCASDFMSEIKCK\n",
      "T\n",
      ">cd21527\n",
      "KISTHTSDVSKGLGTYYPDDRVYSNTTLLLQGLFPYDGSNFTNYALKGSHALGT------\n",
      "LWFYPPFVSPFNNGIFVKVKNTKNST---------SATIYSEYPAIVFGSTFG-------\n",
      "--NTSYTVVIQPDNGG----------TLLEASACQYEMC-----------EYNATICVPK\n",
      "TDGSDGNY--------SWHIDSNAFNCTFEYNFTYN---------VNADLLYFGFYQEDG\n",
      "TLYAYYSDYVD-------LYGGPLKFLFSLPLGDNLTNYYVIPLTCRSIQS---------\n",
      "-SDRKFAAAYYVTYLTPRTFLLNFDENGVITNAVDCSSNFLSELKCS\n",
      ">cd21484\n",
      "SGYTVQPVGVVYRRVPNLPDCKIEEWLTAKSVPSPLNWERKTFQNCNFNLSSLLRYVQAE\n",
      "SLSCNNIDASKVYGMCFGSISIDKFAIPNSRRVDLQLGNSGFLQSFNYKIDTRATSCQLY\n",
      "YSLAQNNVTVNNHNPSSWNRRYGFNDVA--TFGKGKHDVAYAQQCFTVGASYCPCAQPSI\n",
      "VSPCTTDKPK--------------------------------------------------\n",
      "------RCLQGDSCLGVGDHCDGLGVLEDKCGGS---NGCNCAADAFVGWSHDSCLSNGR\n",
      "CQIFANLLLNGINSGTTCSTDLQLP\n",
      ">cd21470\n",
      "VKPSGSVVRRPNNTPLCDFSEWLNATSVPSVYNWERKVFSNCNFNLSKLLSLFSVDSFTC\n",
      "NGISPAKIAGLCFSSITVDKFAIPLSRKSDLQPGSAGFIQDYNYKIDFDNTSCQLAYNLP\n",
      "ANN---------------------------ATITKNHDYVYIQK----------------\n",
      "------------------------------------------------------------\n",
      "--------------------------------FLGWSTDGCTS----GDQCQIFFNISFQ\n",
      "YGNASGTVCS\n",
      "\n"
     ]
    }
   ],
   "source": [
    "from Bio.Seq import Seq\n",
    "from Bio.SeqRecord import SeqRecord\n",
    "from io import StringIO\n",
    "from Bio import SeqIO\n",
    "\n",
    "# Create a list to hold SeqRecord objects\n",
    "records = []\n",
    "\n",
    "# Create SeqRecord objects for each entry in the dictionary\n",
    "for uid, sequence in consensus_sequences.items():\n",
    "    record = SeqRecord(Seq(sequence), id=uid, description=\"\")\n",
    "    records.append(record)\n",
    "\n",
    "# Use StringIO to capture the FASTA formatted output\n",
    "output = StringIO()\n",
    "SeqIO.write(records, output, \"fasta\")\n",
    "fasta_string = output.getvalue()\n",
    "\n",
    "# Print the resulting FASTA string\n",
    "print(fasta_string)"
   ]
  },
  {
   "cell_type": "code",
   "execution_count": 178,
   "metadata": {},
   "outputs": [
    {
     "data": {
      "text/plain": [
       "{'pfam16451': 'DVSKADG--TYYLPDRVY-SNTTTLRQGLFPKQGDNVTNY-VYSPAH-------HCGKR-------NFSTPF---LP--------FGD-GIFVHIGNASNA---TGGRIIS-----------EPPAFVFGSTFGNTS----------HTLIIAPDS----------CQTNLTILVC-----------------NFTLCANPVTACRWG-AGNYNANNSLVYFK---NAINCTFNRTY-NITFDTS-----------LIYFGFKQQDGGFHIYYSYWL--------PDLDSGPPTLFPFATLPLGINITYFQVIPS---SIR----STQN------CRRANAAYYVAPLKPSTFLLDFDVNGYITNAVDCSFDPLSELKCSTGSFEPDTGVYSTSSYRAQPVGSVYVRQPNVTCD',\n",
       " 'cd21627': 'HNITYVSFSV-NKVSRLLPDPYIAYSGQTVRQSLYVADTSNTTVYPVTPPAVGG-----KPGIYNTTILPVGDGLFVHTYMYRQQ-------DSSNTYCQEPFGVAFGNTFEQDRIAIVIIAPGNLGSWPAVSKRTTTNVHILVCSNATLCANPAFNRWGPAGSI--YASDAFVCHGNSCFVNNTFII-PINTSRINLAFRFKDGNLLLYHSAWLPTSG---LNLSGDYPLHYYMSVPVGFNLPNAQFFQSVVRPNTEP------ADGACAAFQNNLYIAPLSKRELLVSYDDNGSPVNVADCSADAGSELYCV',\n",
       " 'cd21625': 'IGDFKCTT-----VSINDVNTGAPSISTETVDVSNGLGTYYVLDRVYLNTTLLLNGYYPTSGSTYRNLALKGTLLLSTLWFKPPFLSEFNNGIFAKVKNTKVSKNG-VMYSEFPTIVIGSTFVNTSYTVVVQPHTGNSDN----KLQGILEISVCQYTMCEYPNTICKPNL-GNQRIELWHTDTGV-PSCLYKRNFTYDVNADWLYFHFYQEGGTFYAYYADTGSVTTFLFSVYLGTVLSHYYVMPLTCNST-----ALTLEYWVTPLTKRQYLLAFNQDGVITNAVDCASDFMSEIKCKT',\n",
       " 'cd21527': 'KISTHTSDVSKGLGTYYPDDRVYSNTTLLLQGLFPYDGSNFTNYALKGSHALGT------LWFYPPFVSPFNNGIFVKVKNTKNST---------SATIYSEYPAIVFGSTFG---------NTSYTVVIQPDNGG----------TLLEASACQYEMC-----------EYNATICVPKTDGSDGNY--------SWHIDSNAFNCTFEYNFTYN---------VNADLLYFGFYQEDGTLYAYYSDYVD-------LYGGPLKFLFSLPLGDNLTNYYVIPLTCRSIQS----------SDRKFAAAYYVTYLTPRTFLLNFDENGVITNAVDCSSNFLSELKCS',\n",
       " 'cd21484': 'SGYTVQPVGVVYRRVPNLPDCKIEEWLTAKSVPSPLNWERKTFQNCNFNLSSLLRYVQAESLSCNNIDASKVYGMCFGSISIDKFAIPNSRRVDLQLGNSGFLQSFNYKIDTRATSCQLYYSLAQNNVTVNNHNPSSWNRRYGFNDVA--TFGKGKHDVAYAQQCFTVGASYCPCAQPSIVSPCTTDKPK--------------------------------------------------------RCLQGDSCLGVGDHCDGLGVLEDKCGGS---NGCNCAADAFVGWSHDSCLSNGRCQIFANLLLNGINSGTTCSTDLQLP',\n",
       " 'cd21470': 'VKPSGSVVRRPNNTPLCDFSEWLNATSVPSVYNWERKVFSNCNFNLSKLLSLFSVDSFTCNGISPAKIAGLCFSSITVDKFAIPLSRKSDLQPGSAGFIQDYNYKIDFDNTSCQLAYNLPANN---------------------------ATITKNHDYVYIQK------------------------------------------------------------------------------------------------------------FLGWSTDGCTS----GDQCQIFFNISFQYGNASGTVCS'}"
      ]
     },
     "execution_count": 178,
     "metadata": {},
     "output_type": "execute_result"
    }
   ],
   "source": [
    "consensus_sequences"
   ]
  },
  {
   "cell_type": "code",
   "execution_count": null,
   "metadata": {},
   "outputs": [],
   "source": []
  }
 ],
 "metadata": {
  "kernelspec": {
   "display_name": "Python 3",
   "language": "python",
   "name": "python3"
  },
  "language_info": {
   "codemirror_mode": {
    "name": "ipython",
    "version": 3
   },
   "file_extension": ".py",
   "mimetype": "text/x-python",
   "name": "python",
   "nbconvert_exporter": "python",
   "pygments_lexer": "ipython3",
   "version": "3.11.10"
  }
 },
 "nbformat": 4,
 "nbformat_minor": 2
}
